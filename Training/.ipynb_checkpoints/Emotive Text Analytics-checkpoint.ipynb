{
 "cells": [
  {
   "cell_type": "markdown",
   "id": "a6c6defd",
   "metadata": {},
   "source": [
    "# Emotive Text Analytics\n",
    "## A project focused on analyzing written text to understand and interpret emotions expressed within it."
   ]
  },
  {
   "cell_type": "code",
   "execution_count": 5,
   "id": "a5c3b878",
   "metadata": {},
   "outputs": [],
   "source": [
    "import pandas as pd\n",
    "import numpy as np\n",
    "import seaborn as sb"
   ]
  },
  {
   "cell_type": "markdown",
   "id": "3a22df00",
   "metadata": {},
   "source": [
    "# Load the Dataset"
   ]
  },
  {
   "cell_type": "code",
   "execution_count": 6,
   "id": "b34cd55a",
   "metadata": {},
   "outputs": [],
   "source": [
    "df = pd.read_csv(\"C:/Users/ajayj/OneDrive/Desktop/Emotive Text Analytics/Dataset/emotion_dataset_raw.csv\")"
   ]
  },
  {
   "cell_type": "code",
   "execution_count": 7,
   "id": "f6048528",
   "metadata": {},
   "outputs": [
    {
     "data": {
      "text/html": [
       "<div>\n",
       "<style scoped>\n",
       "    .dataframe tbody tr th:only-of-type {\n",
       "        vertical-align: middle;\n",
       "    }\n",
       "\n",
       "    .dataframe tbody tr th {\n",
       "        vertical-align: top;\n",
       "    }\n",
       "\n",
       "    .dataframe thead th {\n",
       "        text-align: right;\n",
       "    }\n",
       "</style>\n",
       "<table border=\"1\" class=\"dataframe\">\n",
       "  <thead>\n",
       "    <tr style=\"text-align: right;\">\n",
       "      <th></th>\n",
       "      <th>Emotion</th>\n",
       "      <th>Text</th>\n",
       "    </tr>\n",
       "  </thead>\n",
       "  <tbody>\n",
       "    <tr>\n",
       "      <th>0</th>\n",
       "      <td>neutral</td>\n",
       "      <td>Why ?</td>\n",
       "    </tr>\n",
       "    <tr>\n",
       "      <th>1</th>\n",
       "      <td>joy</td>\n",
       "      <td>Sage Act upgrade on my to do list for tommorow.</td>\n",
       "    </tr>\n",
       "    <tr>\n",
       "      <th>2</th>\n",
       "      <td>sadness</td>\n",
       "      <td>ON THE WAY TO MY HOMEGIRL BABY FUNERAL!!! MAN ...</td>\n",
       "    </tr>\n",
       "    <tr>\n",
       "      <th>3</th>\n",
       "      <td>joy</td>\n",
       "      <td>Such an eye ! The true hazel eye-and so brill...</td>\n",
       "    </tr>\n",
       "    <tr>\n",
       "      <th>4</th>\n",
       "      <td>joy</td>\n",
       "      <td>@Iluvmiasantos ugh babe.. hugggzzz for u .!  b...</td>\n",
       "    </tr>\n",
       "  </tbody>\n",
       "</table>\n",
       "</div>"
      ],
      "text/plain": [
       "   Emotion                                               Text\n",
       "0  neutral                                             Why ? \n",
       "1      joy    Sage Act upgrade on my to do list for tommorow.\n",
       "2  sadness  ON THE WAY TO MY HOMEGIRL BABY FUNERAL!!! MAN ...\n",
       "3      joy   Such an eye ! The true hazel eye-and so brill...\n",
       "4      joy  @Iluvmiasantos ugh babe.. hugggzzz for u .!  b..."
      ]
     },
     "execution_count": 7,
     "metadata": {},
     "output_type": "execute_result"
    }
   ],
   "source": [
    "df.head()"
   ]
  },
  {
   "cell_type": "code",
   "execution_count": 8,
   "id": "aebbe405",
   "metadata": {},
   "outputs": [
    {
     "data": {
      "text/html": [
       "<div>\n",
       "<style scoped>\n",
       "    .dataframe tbody tr th:only-of-type {\n",
       "        vertical-align: middle;\n",
       "    }\n",
       "\n",
       "    .dataframe tbody tr th {\n",
       "        vertical-align: top;\n",
       "    }\n",
       "\n",
       "    .dataframe thead th {\n",
       "        text-align: right;\n",
       "    }\n",
       "</style>\n",
       "<table border=\"1\" class=\"dataframe\">\n",
       "  <thead>\n",
       "    <tr style=\"text-align: right;\">\n",
       "      <th></th>\n",
       "      <th>Emotion</th>\n",
       "      <th>Text</th>\n",
       "    </tr>\n",
       "  </thead>\n",
       "  <tbody>\n",
       "    <tr>\n",
       "      <th>34787</th>\n",
       "      <td>surprise</td>\n",
       "      <td>@MichelGW have you gift! Hope you like it! It'...</td>\n",
       "    </tr>\n",
       "    <tr>\n",
       "      <th>34788</th>\n",
       "      <td>joy</td>\n",
       "      <td>The world didnt give it to me..so the world MO...</td>\n",
       "    </tr>\n",
       "    <tr>\n",
       "      <th>34789</th>\n",
       "      <td>anger</td>\n",
       "      <td>A man robbed me today .</td>\n",
       "    </tr>\n",
       "    <tr>\n",
       "      <th>34790</th>\n",
       "      <td>fear</td>\n",
       "      <td>Youu call it JEALOUSY, I call it of #Losing YO...</td>\n",
       "    </tr>\n",
       "    <tr>\n",
       "      <th>34791</th>\n",
       "      <td>sadness</td>\n",
       "      <td>I think about you baby, and I dream about you ...</td>\n",
       "    </tr>\n",
       "  </tbody>\n",
       "</table>\n",
       "</div>"
      ],
      "text/plain": [
       "        Emotion                                               Text\n",
       "34787  surprise  @MichelGW have you gift! Hope you like it! It'...\n",
       "34788       joy  The world didnt give it to me..so the world MO...\n",
       "34789     anger                           A man robbed me today . \n",
       "34790      fear  Youu call it JEALOUSY, I call it of #Losing YO...\n",
       "34791   sadness  I think about you baby, and I dream about you ..."
      ]
     },
     "execution_count": 8,
     "metadata": {},
     "output_type": "execute_result"
    }
   ],
   "source": [
    "df.tail()"
   ]
  },
  {
   "cell_type": "code",
   "execution_count": 9,
   "id": "60f3bc27",
   "metadata": {},
   "outputs": [
    {
     "data": {
      "text/plain": [
       "Emotion    34792\n",
       "Text       34792\n",
       "dtype: int64"
      ]
     },
     "execution_count": 9,
     "metadata": {},
     "output_type": "execute_result"
    }
   ],
   "source": [
    "df.count()"
   ]
  },
  {
   "cell_type": "code",
   "execution_count": 12,
   "id": "fe0138b3",
   "metadata": {},
   "outputs": [
    {
     "data": {
      "text/plain": [
       "34792"
      ]
     },
     "execution_count": 12,
     "metadata": {},
     "output_type": "execute_result"
    }
   ],
   "source": [
    "df['Emotion'].count()"
   ]
  },
  {
   "cell_type": "code",
   "execution_count": 17,
   "id": "b7e5c6f9",
   "metadata": {},
   "outputs": [
    {
     "data": {
      "text/plain": [
       "joy         11045\n",
       "sadness      6722\n",
       "fear         5410\n",
       "anger        4297\n",
       "surprise     4062\n",
       "neutral      2254\n",
       "disgust       856\n",
       "shame         146\n",
       "Name: Emotion, dtype: int64"
      ]
     },
     "execution_count": 17,
     "metadata": {},
     "output_type": "execute_result"
    }
   ],
   "source": [
    "df['Emotion'].value_counts()"
   ]
  },
  {
   "cell_type": "code",
   "execution_count": 20,
   "id": "2bf50710",
   "metadata": {},
   "outputs": [
    {
     "data": {
      "text/plain": [
       "<AxesSubplot:xlabel='Emotion', ylabel='count'>"
      ]
     },
     "execution_count": 20,
     "metadata": {},
     "output_type": "execute_result"
    },
    {
     "data": {
      "image/png": "[encoded data removed]",
      "text/plain": [
       "<Figure size 432x288 with 1 Axes>"
      ]
     },
     "metadata": {
      "needs_background": "light"
     },
     "output_type": "display_data"
    }
   ],
   "source": [
    "sb.countplot(x = 'Emotion', data = df)"
   ]
  },
  {
   "cell_type": "markdown",
   "id": "4041f655",
   "metadata": {},
   "source": [
    "# Preprocessing"
   ]
  },
  {
   "cell_type": "code",
   "execution_count": 25,
   "id": "4bdc0f54",
   "metadata": {},
   "outputs": [],
   "source": [
    "# NeatText: a simple NLP package for cleaning textual data and text preprocessing. \n",
    "# Simplifying Text Cleaning For NLP & ML\n",
    "import neattext.functions as ntf"
   ]
  },
  {
   "cell_type": "code",
   "execution_count": 26,
   "id": "cdeedc71",
   "metadata": {},
   "outputs": [],
   "source": [
    "# Remove the user handles\n",
    "df['Clean_Text'] = df['Text'].apply(ntf.remove_userhandles)"
   ]
  },
  {
   "cell_type": "code",
   "execution_count": 29,
   "id": "5a7e746d",
   "metadata": {},
   "outputs": [
    {
     "data": {
      "text/plain": [
       "0                                               Why ? \n",
       "1      Sage Act upgrade on my to do list for tommorow.\n",
       "2    ON THE WAY TO MY HOMEGIRL BABY FUNERAL!!! MAN ...\n",
       "3     Such an eye ! The true hazel eye-and so brill...\n",
       "4      ugh babe.. hugggzzz for u .!  babe naamazed ...\n",
       "Name: Clean_Text, dtype: object"
      ]
     },
     "execution_count": 29,
     "metadata": {},
     "output_type": "execute_result"
    }
   ],
   "source": [
    "df['Clean_Text'].head() #removed all username included in the dataset e.g @Iluvmiasantos"
   ]
  },
  {
   "cell_type": "code",
   "execution_count": 32,
   "id": "d2e255db",
   "metadata": {},
   "outputs": [
    {
     "data": {
      "text/html": [
       "<div>\n",
       "<style scoped>\n",
       "    .dataframe tbody tr th:only-of-type {\n",
       "        vertical-align: middle;\n",
       "    }\n",
       "\n",
       "    .dataframe tbody tr th {\n",
       "        vertical-align: top;\n",
       "    }\n",
       "\n",
       "    .dataframe thead th {\n",
       "        text-align: right;\n",
       "    }\n",
       "</style>\n",
       "<table border=\"1\" class=\"dataframe\">\n",
       "  <thead>\n",
       "    <tr style=\"text-align: right;\">\n",
       "      <th></th>\n",
       "      <th>Emotion</th>\n",
       "      <th>Text</th>\n",
       "      <th>Clean_Text</th>\n",
       "    </tr>\n",
       "  </thead>\n",
       "  <tbody>\n",
       "    <tr>\n",
       "      <th>0</th>\n",
       "      <td>neutral</td>\n",
       "      <td>Why ?</td>\n",
       "      <td>Why ?</td>\n",
       "    </tr>\n",
       "    <tr>\n",
       "      <th>1</th>\n",
       "      <td>joy</td>\n",
       "      <td>Sage Act upgrade on my to do list for tommorow.</td>\n",
       "      <td>Sage Act upgrade on my to do list for tommorow.</td>\n",
       "    </tr>\n",
       "    <tr>\n",
       "      <th>2</th>\n",
       "      <td>sadness</td>\n",
       "      <td>ON THE WAY TO MY HOMEGIRL BABY FUNERAL!!! MAN ...</td>\n",
       "      <td>ON THE WAY TO MY HOMEGIRL BABY FUNERAL!!! MAN ...</td>\n",
       "    </tr>\n",
       "    <tr>\n",
       "      <th>3</th>\n",
       "      <td>joy</td>\n",
       "      <td>Such an eye ! The true hazel eye-and so brill...</td>\n",
       "      <td>Such an eye ! The true hazel eye-and so brill...</td>\n",
       "    </tr>\n",
       "    <tr>\n",
       "      <th>4</th>\n",
       "      <td>joy</td>\n",
       "      <td>@Iluvmiasantos ugh babe.. hugggzzz for u .!  b...</td>\n",
       "      <td>ugh babe.. hugggzzz for u .!  babe naamazed ...</td>\n",
       "    </tr>\n",
       "  </tbody>\n",
       "</table>\n",
       "</div>"
      ],
      "text/plain": [
       "   Emotion                                               Text  \\\n",
       "0  neutral                                             Why ?    \n",
       "1      joy    Sage Act upgrade on my to do list for tommorow.   \n",
       "2  sadness  ON THE WAY TO MY HOMEGIRL BABY FUNERAL!!! MAN ...   \n",
       "3      joy   Such an eye ! The true hazel eye-and so brill...   \n",
       "4      joy  @Iluvmiasantos ugh babe.. hugggzzz for u .!  b...   \n",
       "\n",
       "                                          Clean_Text  \n",
       "0                                             Why ?   \n",
       "1    Sage Act upgrade on my to do list for tommorow.  \n",
       "2  ON THE WAY TO MY HOMEGIRL BABY FUNERAL!!! MAN ...  \n",
       "3   Such an eye ! The true hazel eye-and so brill...  \n",
       "4    ugh babe.. hugggzzz for u .!  babe naamazed ...  "
      ]
     },
     "execution_count": 32,
     "metadata": {},
     "output_type": "execute_result"
    }
   ],
   "source": [
    "df.head()"
   ]
  },
  {
   "cell_type": "code",
   "execution_count": 30,
   "id": "ca2f884b",
   "metadata": {},
   "outputs": [
    {
     "data": {
      "text/plain": [
       "34787      have you gift! Hope you like it! It's hand m...\n",
       "34788    The world didnt give it to me..so the world MO...\n",
       "34789                             A man robbed me today . \n",
       "34790    Youu call it JEALOUSY, I call it of #Losing YO...\n",
       "34791    I think about you baby, and I dream about you ...\n",
       "Name: Clean_Text, dtype: object"
      ]
     },
     "execution_count": 30,
     "metadata": {},
     "output_type": "execute_result"
    }
   ],
   "source": [
    "df['Clean_Text'].tail() #removed all username included in the dataset e.g @MichelGW"
   ]
  },
  {
   "cell_type": "code",
   "execution_count": 34,
   "id": "b78788aa",
   "metadata": {},
   "outputs": [
    {
     "data": {
      "text/plain": [
       "['BTC_ADDRESS_REGEX',\n",
       " 'CURRENCY_REGEX',\n",
       " 'CURRENCY_SYMB_REGEX',\n",
       " 'Counter',\n",
       " 'DATE_REGEX',\n",
       " 'EMAIL_REGEX',\n",
       " 'EMOJI_REGEX',\n",
       " 'HASTAG_REGEX',\n",
       " 'MASTERCard_REGEX',\n",
       " 'MD5_SHA_REGEX',\n",
       " 'MOST_COMMON_PUNCT_REGEX',\n",
       " 'NUMBERS_REGEX',\n",
       " 'PHONE_REGEX',\n",
       " 'PoBOX_REGEX',\n",
       " 'SPECIAL_CHARACTERS_REGEX',\n",
       " 'STOPWORDS',\n",
       " 'STOPWORDS_de',\n",
       " 'STOPWORDS_en',\n",
       " 'STOPWORDS_es',\n",
       " 'STOPWORDS_fr',\n",
       " 'STOPWORDS_ru',\n",
       " 'STOPWORDS_yo',\n",
       " 'STREET_ADDRESS_REGEX',\n",
       " 'TextFrame',\n",
       " 'URL_PATTERN',\n",
       " 'USER_HANDLES_REGEX',\n",
       " 'VISACard_REGEX',\n",
       " '__builtins__',\n",
       " '__cached__',\n",
       " '__doc__',\n",
       " '__file__',\n",
       " '__generate_text',\n",
       " '__loader__',\n",
       " '__name__',\n",
       " '__numbers_dict',\n",
       " '__package__',\n",
       " '__spec__',\n",
       " '_lex_richness_herdan',\n",
       " '_lex_richness_maas_ttr',\n",
       " 'clean_text',\n",
       " 'defaultdict',\n",
       " 'digit2words',\n",
       " 'extract_btc_address',\n",
       " 'extract_currencies',\n",
       " 'extract_currency_symbols',\n",
       " 'extract_dates',\n",
       " 'extract_emails',\n",
       " 'extract_emojis',\n",
       " 'extract_hashtags',\n",
       " 'extract_html_tags',\n",
       " 'extract_mastercard_addr',\n",
       " 'extract_md5sha',\n",
       " 'extract_numbers',\n",
       " 'extract_pattern',\n",
       " 'extract_phone_numbers',\n",
       " 'extract_postoffice_box',\n",
       " 'extract_shortwords',\n",
       " 'extract_special_characters',\n",
       " 'extract_stopwords',\n",
       " 'extract_street_address',\n",
       " 'extract_terms_in_bracket',\n",
       " 'extract_urls',\n",
       " 'extract_userhandles',\n",
       " 'extract_visacard_addr',\n",
       " 'fix_contractions',\n",
       " 'generate_sentence',\n",
       " 'hamming_distance',\n",
       " 'inverse_df',\n",
       " 'lexical_richness',\n",
       " 'markov_chain',\n",
       " 'math',\n",
       " 'nlargest',\n",
       " 'normalize',\n",
       " 'num2words',\n",
       " 'random',\n",
       " 're',\n",
       " 'read_txt',\n",
       " 'remove_accents',\n",
       " 'remove_bad_quotes',\n",
       " 'remove_btc_address',\n",
       " 'remove_currencies',\n",
       " 'remove_currency_symbols',\n",
       " 'remove_custom_pattern',\n",
       " 'remove_custom_words',\n",
       " 'remove_dates',\n",
       " 'remove_emails',\n",
       " 'remove_emojis',\n",
       " 'remove_hashtags',\n",
       " 'remove_html_tags',\n",
       " 'remove_mastercard_addr',\n",
       " 'remove_md5sha',\n",
       " 'remove_multiple_spaces',\n",
       " 'remove_non_ascii',\n",
       " 'remove_numbers',\n",
       " 'remove_phone_numbers',\n",
       " 'remove_postoffice_box',\n",
       " 'remove_puncts',\n",
       " 'remove_punctuations',\n",
       " 'remove_shortwords',\n",
       " 'remove_special_characters',\n",
       " 'remove_stopwords',\n",
       " 'remove_street_address',\n",
       " 'remove_terms_in_bracket',\n",
       " 'remove_urls',\n",
       " 'remove_userhandles',\n",
       " 'remove_visacard_addr',\n",
       " 'replace_bad_quotes',\n",
       " 'replace_currencies',\n",
       " 'replace_currency_symbols',\n",
       " 'replace_dates',\n",
       " 'replace_emails',\n",
       " 'replace_emojis',\n",
       " 'replace_numbers',\n",
       " 'replace_phone_numbers',\n",
       " 'replace_special_characters',\n",
       " 'replace_term',\n",
       " 'replace_urls',\n",
       " 'string',\n",
       " 'term_freq',\n",
       " 'to_txt',\n",
       " 'unicodedata',\n",
       " 'word_freq',\n",
       " 'word_length_freq']"
      ]
     },
     "execution_count": 34,
     "metadata": {},
     "output_type": "execute_result"
    }
   ],
   "source": [
    "# other function available in the ntf library\n",
    "dir(ntf)"
   ]
  },
  {
   "cell_type": "code",
   "execution_count": 35,
   "id": "46dab8d7",
   "metadata": {},
   "outputs": [],
   "source": [
    "# Remove the stopwords\n",
    "df['Clean_Text'] = df['Clean_Text'].apply(ntf.remove_stopwords)  #stopwords e.g a, an, is, the, but, or have......"
   ]
  },
  {
   "cell_type": "code",
   "execution_count": 36,
   "id": "9d731d78",
   "metadata": {},
   "outputs": [
    {
     "data": {
      "text/plain": [
       "0                                                    ?\n",
       "1                      Sage Act upgrade list tommorow.\n",
       "2    WAY HOMEGIRL BABY FUNERAL!!! MAN HATE FUNERALS...\n",
       "3    eye ! true hazel eye-and brilliant ! Regular f...\n",
       "4    ugh babe.. hugggzzz u .! babe naamazed nga ako...\n",
       "Name: Clean_Text, dtype: object"
      ]
     },
     "execution_count": 36,
     "metadata": {},
     "output_type": "execute_result"
    }
   ],
   "source": [
    "df['Clean_Text'].head()"
   ]
  },
  {
   "cell_type": "markdown",
   "id": "11459b00",
   "metadata": {},
   "source": [
    "### Splitting data into input variables and target variable\n",
    "\n",
    "### X: Features are the attributes and variables extracted from the dataset. These extracted features are used as inputs to the model during training.\n",
    "\n",
    "### Y: Labels are the output or the target variable."
   ]
  },
  {
   "cell_type": "code",
   "execution_count": 39,
   "id": "85ccc520",
   "metadata": {},
   "outputs": [],
   "source": [
    "x = df['Clean_Text']\n",
    "y = df['Emotion']"
   ]
  },
  {
   "cell_type": "markdown",
   "id": "de7c1846",
   "metadata": {},
   "source": [
    "# Training\n",
    "## Splitting data into train and test set"
   ]
  },
  {
   "cell_type": "code",
   "execution_count": 41,
   "id": "69b5563b",
   "metadata": {},
   "outputs": [],
   "source": [
    "from sklearn.model_selection import train_test_split\n",
    "\n",
    "x_train,x_test,y_train,y_test = train_test_split(x,y,test_size=0.2,random_state=42)"
   ]
  },
  {
   "cell_type": "code",
   "execution_count": 56,
   "id": "3b9fea34",
   "metadata": {},
   "outputs": [],
   "source": [
    "from sklearn.pipeline import Pipeline\n",
    "from sklearn.feature_extraction.text import CountVectorizer\n",
    "from sklearn.svm import SVC\n",
    "from sklearn.ensemble import RandomForestClassifier\n",
    "from sklearn.linear_model import LogisticRegression\n",
    "from sklearn.tree import DecisionTreeClassifier\n",
    "from sklearn.ensemble import GradientBoostingClassifier"
   ]
  },
  {
   "cell_type": "code",
   "execution_count": 44,
   "id": "016b5308",
   "metadata": {},
   "outputs": [
    {
     "data": {
      "text/plain": [
       "0.6309814628538584"
      ]
     },
     "execution_count": 44,
     "metadata": {},
     "output_type": "execute_result"
    }
   ],
   "source": [
    "pipe_lr = Pipeline(steps=[('cv',CountVectorizer()),('lr',LogisticRegression(max_iter = 1000))])\n",
    "pipe_lr.fit(x_train,y_train)\n",
    "pipe_lr.score(x_test,y_test)"
   ]
  },
  {
   "cell_type": "code",
   "execution_count": 45,
   "id": "c7adc4c8",
   "metadata": {},
   "outputs": [
    {
     "data": {
      "text/plain": [
       "0.6324184509268573"
      ]
     },
     "execution_count": 45,
     "metadata": {},
     "output_type": "execute_result"
    }
   ],
   "source": [
    "pipe_svm = Pipeline(steps=[('cv',CountVectorizer()),('svc', SVC(kernel = 'rbf', C = 10))])\n",
    "pipe_svm.fit(x_train,y_train)\n",
    "pipe_svm.score(x_test,y_test)"
   ]
  },
  {
   "cell_type": "code",
   "execution_count": 46,
   "id": "0ce7a402",
   "metadata": {},
   "outputs": [
    {
     "data": {
      "text/plain": [
       "0.5717775542462997"
      ]
     },
     "execution_count": 46,
     "metadata": {},
     "output_type": "execute_result"
    }
   ],
   "source": [
    "pipe_rf = Pipeline(steps=[('cv',CountVectorizer()),('rf', RandomForestClassifier(n_estimators=10))])\n",
    "pipe_rf.fit(x_train,y_train)\n",
    "pipe_rf.score(x_test,y_test)"
   ]
  },
  {
   "cell_type": "code",
   "execution_count": 55,
   "id": "e88a9339",
   "metadata": {},
   "outputs": [
    {
     "data": {
      "text/plain": [
       "0.5516597212243138"
      ]
     },
     "execution_count": 55,
     "metadata": {},
     "output_type": "execute_result"
    }
   ],
   "source": [
    "pipe_dt = Pipeline(steps=[('cv',CountVectorizer()),('dt', DecisionTreeClassifier())])\n",
    "pipe_dt.fit(x_train,y_train)\n",
    "pipe_dt.score(x_test,y_test)"
   ]
  },
  {
   "cell_type": "code",
   "execution_count": 57,
   "id": "6e36a48b",
   "metadata": {},
   "outputs": [
    {
     "data": {
      "text/plain": [
       "0.531398189395028"
      ]
     },
     "execution_count": 57,
     "metadata": {},
     "output_type": "execute_result"
    }
   ],
   "source": [
    "pipe_gb = Pipeline(steps=[('cv',CountVectorizer()),('gb', GradientBoostingClassifier())])\n",
    "pipe_gb.fit(x_train,y_train)\n",
    "pipe_gb.score(x_test,y_test)"
   ]
  },
  {
   "cell_type": "markdown",
   "id": "3a5ce1b1",
   "metadata": {},
   "source": [
    "# Save the Model\n",
    "## Logistic Regression was chosen due to its simplicity and efficiency, providing competitive accuracy while maintaining interpretability and ease of implementation."
   ]
  },
  {
   "cell_type": "code",
   "execution_count": 58,
   "id": "ee21b4fd",
   "metadata": {},
   "outputs": [],
   "source": [
    "import joblib\n",
    "pipeline_file = open(\"text_emotion.pkl\",\"wb\")\n",
    "joblib.dump(pipe_lr,pipeline_file)\n",
    "pipeline_file.close()"
   ]
  },
  {
   "cell_type": "markdown",
   "id": "6a0ee3de",
   "metadata": {},
   "source": [
    "# Tried to increase accuracy by Cross - validation"
   ]
  },
  {
   "cell_type": "code",
   "execution_count": 79,
   "id": "7c2ef425",
   "metadata": {},
   "outputs": [
    {
     "name": "stdout",
     "output_type": "stream",
     "text": [
      "Mean Accuracy: 0.6403776930879199, Standard Deviation: 0.010953308378368892\n"
     ]
    }
   ],
   "source": [
    "from sklearn.model_selection import cross_val_score\n",
    "\n",
    "scores = cross_val_score(pipe_lr, x, y, cv=10)  # 5-fold cross-validation\n",
    "print(f\"Mean Accuracy: {scores.mean()}, Standard Deviation: {scores.std()}\")"
   ]
  },
  {
   "cell_type": "markdown",
   "id": "ae8c92ba",
   "metadata": {},
   "source": [
    "# Test"
   ]
  },
  {
   "cell_type": "code",
   "execution_count": 71,
   "id": "247eda71",
   "metadata": {},
   "outputs": [
    {
     "name": "stdout",
     "output_type": "stream",
     "text": [
      "sadness\n"
     ]
    }
   ],
   "source": [
    "import joblib\n",
    "\n",
    "\n",
    "model = joblib.load(\"text_emotion.pkl\")\n",
    "\n",
    "txt = 'Tears welled up as she hugged her knees.'\n",
    "\n",
    "op = model.predict([txt])[0]\n",
    "print(op)"
   ]
  },
  {
   "cell_type": "code",
   "execution_count": 72,
   "id": "ac540c3a",
   "metadata": {},
   "outputs": [
    {
     "name": "stdout",
     "output_type": "stream",
     "text": [
      "surprise\n"
     ]
    }
   ],
   "source": [
    "import joblib\n",
    "\n",
    "\n",
    "model = joblib.load(\"text_emotion.pkl\")\n",
    "\n",
    "txt = 'His eyes widened in shock as he opened the gift.'\n",
    "\n",
    "op = model.predict([txt])[0]\n",
    "print(op)"
   ]
  },
  {
   "cell_type": "code",
   "execution_count": 81,
   "id": "9fa1c584",
   "metadata": {},
   "outputs": [
    {
     "name": "stdout",
     "output_type": "stream",
     "text": [
      "anger\n"
     ]
    }
   ],
   "source": [
    "import joblib\n",
    "\n",
    "\n",
    "model = joblib.load(\"text_emotion.pkl\")\n",
    "\n",
    "txt = 'With a furious shout, he slammed the door shut.'\n",
    "\n",
    "op = model.predict([txt])[0]\n",
    "print(op)"
   ]
  },
  {
   "cell_type": "code",
   "execution_count": null,
   "id": "cae39c5b",
   "metadata": {},
   "outputs": [],
   "source": []
  }
 ],
 "metadata": {
  "kernelspec": {
   "display_name": "Python 3 (ipykernel)",
   "language": "python",
   "name": "python3"
  },
  "language_info": {
   "codemirror_mode": {
    "name": "ipython",
    "version": 3
   },
   "file_extension": ".py",
   "mimetype": "text/x-python",
   "name": "python",
   "nbconvert_exporter": "python",
   "pygments_lexer": "ipython3",
   "version": "3.10.4"
  }
 },
 "nbformat": 4,
 "nbformat_minor": 5
}
